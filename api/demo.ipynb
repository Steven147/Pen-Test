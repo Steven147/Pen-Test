{
 "metadata": {
  "language_info": {
   "codemirror_mode": {
    "name": "ipython",
    "version": 3
   },
   "file_extension": ".py",
   "mimetype": "text/x-python",
   "name": "python",
   "nbconvert_exporter": "python",
   "pygments_lexer": "ipython3",
   "version": "3.7.10"
  },
  "orig_nbformat": 2,
  "kernelspec": {
   "name": "python3710jvsc74a57bd03caf13703c5b1c02abff9fa597e671e1239d1d668b6a345ae62ddadff9d8fc63",
   "display_name": "Python 3.7.10 64-bit ('py37': conda)"
  }
 },
 "nbformat": 4,
 "nbformat_minor": 2,
 "cells": [
  {
   "cell_type": "code",
   "execution_count": 24,
   "metadata": {},
   "outputs": [],
   "source": [
    "import pickle\n",
    "f=open('C:\\\\Users\\\\lshq9\\\\Documents\\\\GitHub\\\\Penetration-Testing\\\\api\\\\phpMyAdmin.txt','rb')\n",
    "data=pickle.load(f)\n",
    "f.close()"
   ]
  },
  {
   "cell_type": "code",
   "execution_count": 4,
   "metadata": {},
   "outputs": [],
   "source": [
    "import pickle\n",
    "f=open('C:\\\\Users\\\\lshq9\\\\Documents\\\\GitHub\\\\Penetration-Testing\\\\api\\\\dvwa.txt','rb')\n",
    "data=pickle.load(f)\n",
    "f.close()"
   ]
  },
  {
   "cell_type": "code",
   "execution_count": 5,
   "metadata": {},
   "outputs": [],
   "source": [
    "import pickle\n",
    "f=open('C:\\\\Users\\\\lshq9\\\\Documents\\\\GitHub\\\\Penetration-Testing\\\\api\\\\test.txt','rb')\n",
    "data=pickle.load(f)\n",
    "f.close()\n"
   ]
  },
  {
   "cell_type": "code",
   "execution_count": 1,
   "metadata": {},
   "outputs": [],
   "source": [
    "import pickle\n",
    "f=open('C:\\\\Users\\\\lshq9\\\\Documents\\\\GitHub\\\\Penetration-Testing\\\\api\\\\ttestfiretxt','rb')\n",
    "data=pickle.load(f)\n",
    "f.close()tes"
   ]
  },
  {
   "cell_type": "code",
   "execution_count": 5,
   "metadata": {},
   "outputs": [
    {
     "output_type": "stream",
     "name": "stdout",
     "text": [
      "207\n"
     ]
    },
    {
     "output_type": "execute_result",
     "data": {
      "text/plain": [
       "['http://10.10.10.133/dvwa',\n",
       " 'http://10.10.10.133/dvwa/',\n",
       " 'http://10.10.10.133/dvwa/login.php',\n",
       " 'http://10.10.10.133/dvwa/dvwa/css/login.css',\n",
       " 'http://10.10.10.133/dvwa/dvwa/images/login_logo.png',\n",
       " 'http://10.10.10.133/dvwa/login.php',\n",
       " 'http://10.10.10.133/dvwa/index.php',\n",
       " 'http://10.10.10.133/dvwa/dvwa/css/main.css',\n",
       " 'http://10.10.10.133/dvwa/dvwa/js/dvwaPage.js',\n",
       " 'http://10.10.10.133/dvwa/dvwa/images/logo.png',\n",
       " 'http://10.10.10.133/dvwa/login.php',\n",
       " 'http://10.10.10.133/dvwa/dvwa/css/login.css',\n",
       " 'http://10.10.10.133/dvwa/dvwa/images/login_logo.png',\n",
       " 'http://10.10.10.133/dvwa/index.php',\n",
       " 'http://10.10.10.133/dvwa/dvwa/css/main.css',\n",
       " 'http://10.10.10.133/dvwa/dvwa/js/dvwaPage.js',\n",
       " 'http://10.10.10.133/dvwa/dvwa/images/logo.png',\n",
       " 'http://10.10.10.133/dvwa/instructions.php',\n",
       " 'http://10.10.10.133/dvwa/dvwa/css/main.css',\n",
       " 'http://10.10.10.133/dvwa/dvwa/js/dvwaPage.js',\n",
       " 'http://10.10.10.133/dvwa/dvwa/images/logo.png',\n",
       " 'http://10.10.10.133/dvwa/setup.php',\n",
       " 'http://10.10.10.133/dvwa/dvwa/css/main.css',\n",
       " 'http://10.10.10.133/dvwa/dvwa/js/dvwaPage.js',\n",
       " 'http://10.10.10.133/dvwa/dvwa/images/logo.png',\n",
       " 'http://10.10.10.133/dvwa/dvwa/images/spanner.png',\n",
       " 'http://10.10.10.133/dvwa/vulnerabilities/brute/',\n",
       " 'http://10.10.10.133/dvwa/dvwa/css/main.css',\n",
       " 'http://10.10.10.133/dvwa/dvwa/js/dvwaPage.js',\n",
       " 'http://10.10.10.133/dvwa/dvwa/images/logo.png',\n",
       " 'http://10.10.10.133/dvwa/vulnerabilities/brute/?username=admin&password=password&Login=Login',\n",
       " 'http://10.10.10.133/dvwa/dvwa/css/main.css',\n",
       " 'http://10.10.10.133/dvwa/dvwa/js/dvwaPage.js',\n",
       " 'http://10.10.10.133/dvwa/dvwa/images/logo.png',\n",
       " 'http://10.10.10.133/dvwa/vulnerabilities/brute/',\n",
       " 'http://10.10.10.133/dvwa/dvwa/css/main.css',\n",
       " 'http://10.10.10.133/dvwa/dvwa/js/dvwaPage.js',\n",
       " 'http://10.10.10.133/dvwa/dvwa/images/logo.png',\n",
       " 'http://10.10.10.133/dvwa/vulnerabilities/exec/',\n",
       " 'http://10.10.10.133/dvwa/dvwa/css/main.css',\n",
       " 'http://10.10.10.133/dvwa/dvwa/js/dvwaPage.js',\n",
       " 'http://10.10.10.133/dvwa/dvwa/images/logo.png',\n",
       " 'http://10.10.10.133/dvwa/vulnerabilities/exec/',\n",
       " 'http://10.10.10.133/dvwa/dvwa/css/main.css',\n",
       " 'http://10.10.10.133/dvwa/dvwa/js/dvwaPage.js',\n",
       " 'http://10.10.10.133/dvwa/dvwa/images/logo.png',\n",
       " 'http://10.10.10.133/dvwa/vulnerabilities/exec/',\n",
       " 'http://10.10.10.133/dvwa/dvwa/css/main.css',\n",
       " 'http://10.10.10.133/dvwa/dvwa/js/dvwaPage.js',\n",
       " 'http://10.10.10.133/dvwa/dvwa/images/logo.png',\n",
       " 'http://10.10.10.133/dvwa/vulnerabilities/csrf/',\n",
       " 'http://10.10.10.133/dvwa/dvwa/css/main.css',\n",
       " 'http://10.10.10.133/dvwa/dvwa/js/dvwaPage.js',\n",
       " 'http://10.10.10.133/dvwa/dvwa/images/logo.png',\n",
       " 'http://10.10.10.133/dvwa/vulnerabilities/csrf/?password_current=password&password_new=password&password_conf=password&Change=Change',\n",
       " 'http://10.10.10.133/dvwa/dvwa/css/main.css',\n",
       " 'http://10.10.10.133/dvwa/dvwa/js/dvwaPage.js',\n",
       " 'http://10.10.10.133/dvwa/dvwa/images/logo.png',\n",
       " 'http://10.10.10.133/dvwa/vulnerabilities/csrf/',\n",
       " 'http://10.10.10.133/dvwa/dvwa/css/main.css',\n",
       " 'http://10.10.10.133/dvwa/dvwa/js/dvwaPage.js',\n",
       " 'http://10.10.10.133/dvwa/dvwa/images/logo.png',\n",
       " 'http://10.10.10.133/dvwa/vulnerabilities/fi/?page=include.php',\n",
       " 'http://10.10.10.133/dvwa/dvwa/css/main.css',\n",
       " 'http://10.10.10.133/dvwa/dvwa/js/dvwaPage.js',\n",
       " 'http://10.10.10.133/dvwa/dvwa/images/logo.png',\n",
       " 'http://10.10.10.133/dvwa/vulnerabilities/sqli/',\n",
       " 'http://10.10.10.133/dvwa/dvwa/css/main.css',\n",
       " 'http://10.10.10.133/dvwa/dvwa/js/dvwaPage.js',\n",
       " 'http://10.10.10.133/dvwa/dvwa/images/logo.png',\n",
       " 'http://10.10.10.133/dvwa/vulnerabilities/sqli/?id=admin&Submit=Submit',\n",
       " 'http://10.10.10.133/dvwa/dvwa/css/main.css',\n",
       " 'http://10.10.10.133/dvwa/dvwa/js/dvwaPage.js',\n",
       " 'http://10.10.10.133/dvwa/dvwa/images/logo.png',\n",
       " 'http://10.10.10.133/dvwa/vulnerabilities/sqli/',\n",
       " 'http://10.10.10.133/dvwa/dvwa/css/main.css',\n",
       " 'http://10.10.10.133/dvwa/dvwa/js/dvwaPage.js',\n",
       " 'http://10.10.10.133/dvwa/dvwa/images/logo.png',\n",
       " 'http://10.10.10.133/dvwa/vulnerabilities/sqli_blind/',\n",
       " 'http://10.10.10.133/dvwa/dvwa/css/main.css',\n",
       " 'http://10.10.10.133/dvwa/dvwa/js/dvwaPage.js',\n",
       " 'http://10.10.10.133/dvwa/dvwa/images/logo.png',\n",
       " 'http://10.10.10.133/dvwa/vulnerabilities/upload/',\n",
       " 'http://10.10.10.133/dvwa/dvwa/css/main.css',\n",
       " 'http://10.10.10.133/dvwa/dvwa/js/dvwaPage.js',\n",
       " 'http://10.10.10.133/dvwa/dvwa/images/logo.png',\n",
       " 'http://10.10.10.133/dvwa/vulnerabilities/xss_r/',\n",
       " 'http://10.10.10.133/dvwa/dvwa/css/main.css',\n",
       " 'http://10.10.10.133/dvwa/dvwa/js/dvwaPage.js',\n",
       " 'http://10.10.10.133/dvwa/dvwa/images/logo.png',\n",
       " 'http://10.10.10.133/dvwa/vulnerabilities/xss_r/?name=admin',\n",
       " 'http://10.10.10.133/dvwa/dvwa/css/main.css',\n",
       " 'http://10.10.10.133/dvwa/dvwa/js/dvwaPage.js',\n",
       " 'http://10.10.10.133/dvwa/dvwa/images/logo.png',\n",
       " 'http://10.10.10.133/dvwa/vulnerabilities/xss_r/',\n",
       " 'http://10.10.10.133/dvwa/dvwa/css/main.css',\n",
       " 'http://10.10.10.133/dvwa/dvwa/js/dvwaPage.js',\n",
       " 'http://10.10.10.133/dvwa/dvwa/images/logo.png',\n",
       " 'http://10.10.10.133/dvwa/vulnerabilities/xss_s/',\n",
       " 'http://10.10.10.133/dvwa/dvwa/css/main.css',\n",
       " 'http://10.10.10.133/dvwa/dvwa/js/dvwaPage.js',\n",
       " 'http://10.10.10.133/dvwa/dvwa/images/logo.png',\n",
       " 'http://10.10.10.133/dvwa/vulnerabilities/xss_s/',\n",
       " 'http://10.10.10.133/dvwa/dvwa/css/main.css',\n",
       " 'http://10.10.10.133/dvwa/dvwa/js/dvwaPage.js',\n",
       " 'http://10.10.10.133/dvwa/dvwa/images/logo.png',\n",
       " 'http://10.10.10.133/dvwa/security.php',\n",
       " 'http://10.10.10.133/dvwa/dvwa/css/main.css',\n",
       " 'http://10.10.10.133/dvwa/dvwa/js/dvwaPage.js',\n",
       " 'http://10.10.10.133/dvwa/dvwa/images/logo.png',\n",
       " 'http://10.10.10.133/dvwa/dvwa/images/lock.png',\n",
       " 'http://10.10.10.133/dvwa/phpinfo.php',\n",
       " 'http://10.10.10.133/dvwa/phpinfo.php?=PHPE9568F34-D428-11d2-A769-00AA001ACF42',\n",
       " 'http://10.10.10.133/dvwa/phpinfo.php?=PHPE9568F35-D428-11d2-A769-00AA001ACF42',\n",
       " 'http://10.10.10.133/dvwa/phpinfo.php?=SUHO8567F54-D428-14d2-A769-00DA302A5F18',\n",
       " 'http://10.10.10.133/dvwa/about.php',\n",
       " 'http://10.10.10.133/dvwa/dvwa/css/main.css',\n",
       " 'http://10.10.10.133/dvwa/dvwa/js/dvwaPage.js',\n",
       " 'http://10.10.10.133/dvwa/dvwa/images/logo.png',\n",
       " 'http://10.10.10.133/dvwa/?doc=readme',\n",
       " 'http://10.10.10.133/dvwa/dvwa/css/main.css',\n",
       " 'http://10.10.10.133/dvwa/dvwa/js/dvwaPage.js',\n",
       " 'http://10.10.10.133/dvwa/dvwa/images/logo.png',\n",
       " 'http://10.10.10.133/dvwa/?doc=changelog',\n",
       " 'http://10.10.10.133/dvwa/dvwa/css/main.css',\n",
       " 'http://10.10.10.133/dvwa/dvwa/js/dvwaPage.js',\n",
       " 'http://10.10.10.133/dvwa/dvwa/images/logo.png',\n",
       " 'http://10.10.10.133/dvwa/?doc=copying',\n",
       " 'http://10.10.10.133/dvwa/dvwa/css/main.css',\n",
       " 'http://10.10.10.133/dvwa/dvwa/js/dvwaPage.js',\n",
       " 'http://10.10.10.133/dvwa/dvwa/images/logo.png',\n",
       " 'http://10.10.10.133/dvwa/?doc=PHPIDS-license',\n",
       " 'http://10.10.10.133/dvwa/dvwa/css/main.css',\n",
       " 'http://10.10.10.133/dvwa/dvwa/js/dvwaPage.js',\n",
       " 'http://10.10.10.133/dvwa/dvwa/images/logo.png',\n",
       " 'http://10.10.10.133/dvwa/',\n",
       " 'http://10.10.10.133/dvwa/dvwa/css/main.css',\n",
       " 'http://10.10.10.133/dvwa/dvwa/js/dvwaPage.js',\n",
       " 'http://10.10.10.133/dvwa/dvwa/images/logo.png',\n",
       " 'http://10.10.10.133/dvwa/vulnerabilities/brute/',\n",
       " 'http://10.10.10.133/dvwa/dvwa/css/main.css',\n",
       " 'http://10.10.10.133/dvwa/dvwa/js/dvwaPage.js',\n",
       " 'http://10.10.10.133/dvwa/dvwa/images/logo.png',\n",
       " 'http://10.10.10.133/dvwa/vulnerabilities/exec/',\n",
       " 'http://10.10.10.133/dvwa/dvwa/css/main.css',\n",
       " 'http://10.10.10.133/dvwa/dvwa/js/dvwaPage.js',\n",
       " 'http://10.10.10.133/dvwa/dvwa/images/logo.png',\n",
       " 'http://10.10.10.133/dvwa/vulnerabilities/csrf/',\n",
       " 'http://10.10.10.133/dvwa/dvwa/css/main.css',\n",
       " 'http://10.10.10.133/dvwa/dvwa/js/dvwaPage.js',\n",
       " 'http://10.10.10.133/dvwa/dvwa/images/logo.png',\n",
       " 'http://10.10.10.133/dvwa/vulnerabilities/fi/?page=include.php',\n",
       " 'http://10.10.10.133/dvwa/dvwa/css/main.css',\n",
       " 'http://10.10.10.133/dvwa/dvwa/js/dvwaPage.js',\n",
       " 'http://10.10.10.133/dvwa/dvwa/images/logo.png',\n",
       " 'http://10.10.10.133/dvwa/vulnerabilities/sqli/',\n",
       " 'http://10.10.10.133/dvwa/dvwa/css/main.css',\n",
       " 'http://10.10.10.133/dvwa/dvwa/js/dvwaPage.js',\n",
       " 'http://10.10.10.133/dvwa/dvwa/images/logo.png',\n",
       " 'http://10.10.10.133/dvwa/vulnerabilities/sqli_blind/',\n",
       " 'http://10.10.10.133/dvwa/dvwa/css/main.css',\n",
       " 'http://10.10.10.133/dvwa/dvwa/js/dvwaPage.js',\n",
       " 'http://10.10.10.133/dvwa/dvwa/images/logo.png',\n",
       " 'http://10.10.10.133/dvwa/vulnerabilities/upload/',\n",
       " 'http://10.10.10.133/dvwa/dvwa/css/main.css',\n",
       " 'http://10.10.10.133/dvwa/dvwa/js/dvwaPage.js',\n",
       " 'http://10.10.10.133/dvwa/dvwa/images/logo.png',\n",
       " 'http://10.10.10.133/dvwa/vulnerabilities/xss_r/',\n",
       " 'http://10.10.10.133/dvwa/dvwa/css/main.css',\n",
       " 'http://10.10.10.133/dvwa/dvwa/js/dvwaPage.js',\n",
       " 'http://10.10.10.133/dvwa/dvwa/images/logo.png',\n",
       " 'http://10.10.10.133/dvwa/vulnerabilities/xss_s/',\n",
       " 'http://10.10.10.133/dvwa/dvwa/css/main.css',\n",
       " 'http://10.10.10.133/dvwa/dvwa/js/dvwaPage.js',\n",
       " 'http://10.10.10.133/dvwa/dvwa/images/logo.png',\n",
       " 'http://10.10.10.133/dvwa/vulnerabilities/csrf/?password_current=password&password_new=password&password_conf=password&Change=Change',\n",
       " 'http://10.10.10.133/dvwa/dvwa/css/main.css',\n",
       " 'http://10.10.10.133/dvwa/dvwa/js/dvwaPage.js',\n",
       " 'http://10.10.10.133/dvwa/dvwa/images/logo.png',\n",
       " 'http://10.10.10.133/dvwa/vulnerabilities/sqli/?id=admin&Submit=Submit',\n",
       " 'http://10.10.10.133/dvwa/dvwa/css/main.css',\n",
       " 'http://10.10.10.133/dvwa/dvwa/js/dvwaPage.js',\n",
       " 'http://10.10.10.133/dvwa/dvwa/images/logo.png',\n",
       " 'http://10.10.10.133/dvwa/vulnerabilities/xss_r/?name=admin',\n",
       " 'http://10.10.10.133/dvwa/dvwa/css/main.css',\n",
       " 'http://10.10.10.133/dvwa/dvwa/js/dvwaPage.js',\n",
       " 'http://10.10.10.133/dvwa/dvwa/images/logo.png',\n",
       " 'http://10.10.10.133/dvwa/?phpids=on',\n",
       " 'http://10.10.10.133/dvwa/dvwa/css/main.css',\n",
       " 'http://10.10.10.133/dvwa/dvwa/js/dvwaPage.js',\n",
       " 'http://10.10.10.133/dvwa/dvwa/images/logo.png',\n",
       " 'http://10.10.10.133/dvwa/?test=%22%3E%3Cscript%3Eeval(window.name)%3C/script%3E',\n",
       " 'http://10.10.10.133/dvwa/dvwa/css/main.css',\n",
       " 'http://10.10.10.133/dvwa/dvwa/js/dvwaPage.js',\n",
       " 'http://10.10.10.133/dvwa/dvwa/images/logo.png',\n",
       " 'http://10.10.10.133/dvwa/ids_log.php',\n",
       " 'http://10.10.10.133/dvwa/dvwa/css/main.css',\n",
       " 'http://10.10.10.133/dvwa/dvwa/js/dvwaPage.js',\n",
       " 'http://10.10.10.133/dvwa/dvwa/images/logo.png',\n",
       " 'http://10.10.10.133/dvwa/phpinfo.php?=PHPE9568F34-D428-11d2-A769-00AA001ACF42',\n",
       " 'http://10.10.10.133/dvwa/phpinfo.php?=SUHO8567F54-D428-14d2-A769-00DA302A5F18',\n",
       " 'http://10.10.10.133/dvwa/phpinfo.php?=PHPE9568F35-D428-11d2-A769-00AA001ACF42',\n",
       " 'http://10.10.10.133/dvwa/phpinfo.php?=PHPB8B5F2A0-3C92-11d3-A3A9-4C7B08C10000',\n",
       " 'http://10.10.10.133/dvwa/instructions.php?doc=PHPIDS-license',\n",
       " 'http://10.10.10.133/dvwa/dvwa/css/main.css',\n",
       " 'http://10.10.10.133/dvwa/dvwa/js/dvwaPage.js',\n",
       " 'http://10.10.10.133/dvwa/dvwa/images/logo.png']"
      ]
     },
     "metadata": {},
     "execution_count": 5
    }
   ],
   "source": [
    "print(len(data))\n",
    "data"
   ]
  },
  {
   "cell_type": "code",
   "execution_count": 6,
   "metadata": {},
   "outputs": [
    {
     "output_type": "stream",
     "name": "stdout",
     "text": [
      "23\n"
     ]
    },
    {
     "output_type": "execute_result",
     "data": {
      "text/plain": [
       "['http://10.10.10.133/dvwa/vulnerabilities/brute/?username=admin&password=password&Login=Login',\n",
       " 'http://10.10.10.133/dvwa/vulnerabilities/csrf/?password_current=password&password_new=password&password_conf=password&Change=Change',\n",
       " 'http://10.10.10.133/dvwa/vulnerabilities/fi/?page=include.php',\n",
       " 'http://10.10.10.133/dvwa/vulnerabilities/sqli/?id=admin&Submit=Submit',\n",
       " 'http://10.10.10.133/dvwa/vulnerabilities/xss_r/?name=admin',\n",
       " 'http://10.10.10.133/dvwa/phpinfo.php?=PHPE9568F34-D428-11d2-A769-00AA001ACF42',\n",
       " 'http://10.10.10.133/dvwa/phpinfo.php?=PHPE9568F35-D428-11d2-A769-00AA001ACF42',\n",
       " 'http://10.10.10.133/dvwa/phpinfo.php?=SUHO8567F54-D428-14d2-A769-00DA302A5F18',\n",
       " 'http://10.10.10.133/dvwa/?doc=readme',\n",
       " 'http://10.10.10.133/dvwa/?doc=changelog',\n",
       " 'http://10.10.10.133/dvwa/?doc=copying',\n",
       " 'http://10.10.10.133/dvwa/?doc=PHPIDS-license',\n",
       " 'http://10.10.10.133/dvwa/vulnerabilities/fi/?page=include.php',\n",
       " 'http://10.10.10.133/dvwa/vulnerabilities/csrf/?password_current=password&password_new=password&password_conf=password&Change=Change',\n",
       " 'http://10.10.10.133/dvwa/vulnerabilities/sqli/?id=admin&Submit=Submit',\n",
       " 'http://10.10.10.133/dvwa/vulnerabilities/xss_r/?name=admin',\n",
       " 'http://10.10.10.133/dvwa/?phpids=on',\n",
       " 'http://10.10.10.133/dvwa/?test=%22%3E%3Cscript%3Eeval(window.name)%3C/script%3E',\n",
       " 'http://10.10.10.133/dvwa/phpinfo.php?=PHPE9568F34-D428-11d2-A769-00AA001ACF42',\n",
       " 'http://10.10.10.133/dvwa/phpinfo.php?=SUHO8567F54-D428-14d2-A769-00DA302A5F18',\n",
       " 'http://10.10.10.133/dvwa/phpinfo.php?=PHPE9568F35-D428-11d2-A769-00AA001ACF42',\n",
       " 'http://10.10.10.133/dvwa/phpinfo.php?=PHPB8B5F2A0-3C92-11d3-A3A9-4C7B08C10000',\n",
       " 'http://10.10.10.133/dvwa/instructions.php?doc=PHPIDS-license']"
      ]
     },
     "metadata": {},
     "execution_count": 6
    }
   ],
   "source": [
    "print(len([i for i in data if i.find('=') != -1]))\n",
    "[i for i in data if i.find('=') != -1]\n"
   ]
  },
  {
   "cell_type": "code",
   "execution_count": 22,
   "metadata": {},
   "outputs": [
    {
     "output_type": "stream",
     "name": "stdout",
     "text": [
      "0\n"
     ]
    },
    {
     "output_type": "execute_result",
     "data": {
      "text/plain": [
       "[]"
      ]
     },
     "metadata": {},
     "execution_count": 22
    }
   ],
   "source": [
    "print(len([i for i in data if i.find('=') != -1 and i.find('token') != -1]))\n",
    "[i for i in data if i.find('=') != -1 and i.find('token') != -1]"
   ]
  },
  {
   "cell_type": "code",
   "execution_count": null,
   "metadata": {},
   "outputs": [],
   "source": []
  }
 ]
}